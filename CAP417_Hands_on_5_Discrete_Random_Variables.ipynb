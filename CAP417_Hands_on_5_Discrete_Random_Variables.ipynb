{
  "nbformat": 4,
  "nbformat_minor": 0,
  "metadata": {
    "colab": {
      "name": "CAP417_Hands_on_5_Discrete_Random_Variables.ipynb",
      "provenance": [],
      "collapsed_sections": [
        "xYYAAFFbse5N",
        "hUq3SJxUshFa",
        "bAUHbcXGslj8",
        "rOrsdZ7-soEH",
        "detE4Ry6srOH",
        "8gV_QgFIdDIS",
        "iI00d_yyY10d"
      ],
      "authorship_tag": "ABX9TyPl9WKZnnKosC2jxIaLZ5z6",
      "include_colab_link": true
    },
    "kernelspec": {
      "name": "python3",
      "display_name": "Python 3"
    },
    "language_info": {
      "name": "python"
    }
  },
  "cells": [
    {
      "cell_type": "markdown",
      "metadata": {
        "id": "view-in-github",
        "colab_type": "text"
      },
      "source": [
        "<a href=\"https://colab.research.google.com/github/Ellen-Tuane/INPE_CAP413_Computational_Statistics/blob/main/CAP417_Hands_on_5_Discrete_Random_Variables.ipynb\" target=\"_parent\"><img src=\"https://colab.research.google.com/assets/colab-badge.svg\" alt=\"Open In Colab\"/></a>"
      ]
    },
    {
      "cell_type": "markdown",
      "source": [
        "# CAP-417-3: Computational Statistics\n",
        "\n",
        "Hands On 02\n",
        "\n",
        "Prof. Valdivino Alexandre de Santiago Júnior\n",
        "\n",
        "Ellen Tuane\n",
        "\n",
        "Subject: Discrete Random Variables and Probability Distributions [1]\n"
      ],
      "metadata": {
        "id": "A-xx4zg1lFJ6"
      }
    },
    {
      "cell_type": "markdown",
      "source": [
        "# 0. The Problem"
      ],
      "metadata": {
        "id": "PJlxCXm0LYnZ"
      }
    },
    {
      "cell_type": "markdown",
      "source": [
        "The Global Precipitation Climatology Project (GPCP) is used as a reference dataset for accomplishing climate precipitation prediction. Consider part of one GPCP's dataset shown here. It has monthly data from 1980 to 2016.\n",
        "\n",
        "\n",
        "The only relevant variable of this dataset for this exercise is press, the surface pressure (in millibars). Hence, each row in this dataset has data acquired in a location (latitude, longitude), in a certain year and month. Hence, first entry shows that in january/1980 in the specificied location (latitude and longitude), surface pressure (press) is 993.735 millibars, and in february/1980, in the same location, surface pressure is 995.384 millibars, and so on.\n",
        "\n",
        "\n",
        "Note that the values of each variable, including press, are continuous (real numbers). But here, we will define a random variable representing the outcomes of high surface pressure measurements in one year. A high surface pressure happens when the pressure is greater than the average of surface pressure values considering all months, years, and locations.\n",
        "\n",
        "\n",
        "Note that the discrete random variable described above can be perfectly considered a Poisson random variable since it satisfies all the properties of the Poisson process.\n",
        "\n",
        "_________________________________________________________________________\n",
        "\n",
        "The properties of the Poisson process are: [1]\n",
        "\n",
        "* The number of outcomes occurring in one time interval or specified region of space is independent of the number that occur in any other disjoint time interval or region. In this sense we say that the Poisson process has no memory;\n",
        "\n",
        "* The probability that a single outcome will occur during a very short time interval or in a small region is proportional to the length of the time interval or the size of the region and does not depend on the number of outcomes occurring outside this time interval or region;\n",
        "\n",
        "* The probability that more than one outcome will occur in such a short time interval or fall in such a small region is negligible.\n",
        "\n",
        "\n",
        "\n"
      ],
      "metadata": {
        "id": "flJ8CtmEs7Gh"
      }
    },
    {
      "cell_type": "code",
      "source": [
        "! git clone https://github.com/vsantjr/CAP.git"
      ],
      "metadata": {
        "id": "l6s0AVYCtyiI",
        "colab": {
          "base_uri": "https://localhost:8080/"
        },
        "outputId": "4479f607-727e-434d-8c88-bf435b87c2c0"
      },
      "execution_count": null,
      "outputs": [
        {
          "output_type": "stream",
          "name": "stdout",
          "text": [
            "Cloning into 'CAP'...\n",
            "remote: Enumerating objects: 379, done.\u001b[K\n",
            "remote: Total 379 (delta 0), reused 0 (delta 0), pack-reused 379\u001b[K\n",
            "Receiving objects: 100% (379/379), 46.21 MiB | 38.13 MiB/s, done.\n",
            "Resolving deltas: 100% (188/188), done.\n"
          ]
        }
      ]
    },
    {
      "cell_type": "code",
      "source": [
        "import pandas as pd\n",
        "from matplotlib import pyplot as plt\n",
        "from matplotlib import collections as matcoll\n",
        "import numpy as np\n",
        "from scipy.stats import poisson\n",
        "import math"
      ],
      "metadata": {
        "id": "vHq_MGCkBnmv"
      },
      "execution_count": null,
      "outputs": []
    },
    {
      "cell_type": "code",
      "source": [
        "# read dataset\n",
        "df = pd.read_excel('/content/CAP/CAP417/GPCP/gpcp_1980-2016.xlsx')"
      ],
      "metadata": {
        "id": "rxdJSUvavDg2"
      },
      "execution_count": null,
      "outputs": []
    },
    {
      "cell_type": "code",
      "source": [
        "df.head(500)"
      ],
      "metadata": {
        "colab": {
          "base_uri": "https://localhost:8080/",
          "height": 424
        },
        "id": "mPJXnbpb_8cx",
        "outputId": "4334afbd-df29-42d2-e77c-9424cc767a87"
      },
      "execution_count": null,
      "outputs": [
        {
          "output_type": "execute_result",
          "data": {
            "text/plain": [
              "     year   month    lat     lon   temp850     press  shum850       t2m  \\\n",
              "0    1980       1 -58.75  271.25  -2.65499   993.735  3.12400  4.968070   \n",
              "1    1980       2 -58.75  271.25  -3.47750   995.384  2.92150  4.898020   \n",
              "2    1980       3 -58.75  271.25  -4.87000   990.998  2.78050  3.880490   \n",
              "3    1980       4 -58.75  271.25  -4.39250  1006.920  2.71475  3.445750   \n",
              "4    1980       5 -58.75  271.25  -5.34500   993.502  2.73400  3.314030   \n",
              "..    ...     ...    ...     ...       ...       ...      ...       ...   \n",
              "495  1980       4 -56.25  313.75  -5.82750   996.921  2.44275  2.026170   \n",
              "496  1980       5 -56.25  313.75  -5.00500  1004.080  2.40900  0.879597   \n",
              "497  1980       6 -56.25  313.75  -8.20750   993.452  2.15125  0.019417   \n",
              "498  1980       7 -56.25  313.75 -11.23500  1000.690  1.39350 -4.547260   \n",
              "499  1980       8 -56.25  313.75 -11.47250  1000.020  1.57225 -6.201050   \n",
              "\n",
              "        u500      u850      v850   prgpcp  \n",
              "0    11.3675   6.60750 -0.915001  2.61009  \n",
              "1    10.6775   5.27499 -0.340000  3.24624  \n",
              "2    10.7350   6.76750  0.285000  3.96585  \n",
              "3     7.9700   6.69250  2.377500  2.95227  \n",
              "4     4.4575   1.90750 -3.905000  3.26092  \n",
              "..       ...       ...       ...      ...  \n",
              "495  21.5675  10.33750  3.640000  4.13558  \n",
              "496  16.9825   9.57750  4.042500  3.34953  \n",
              "497  18.0275   9.74250  0.857498  3.40521  \n",
              "498  15.5250   8.75250  7.707500  3.15905  \n",
              "499  15.4350   9.64000  5.007500  3.03223  \n",
              "\n",
              "[500 rows x 12 columns]"
            ],
            "text/html": [
              "\n",
              "  <div id=\"df-5f95a37b-04ca-4a61-91c8-3a5c1b8fd3a6\">\n",
              "    <div class=\"colab-df-container\">\n",
              "      <div>\n",
              "<style scoped>\n",
              "    .dataframe tbody tr th:only-of-type {\n",
              "        vertical-align: middle;\n",
              "    }\n",
              "\n",
              "    .dataframe tbody tr th {\n",
              "        vertical-align: top;\n",
              "    }\n",
              "\n",
              "    .dataframe thead th {\n",
              "        text-align: right;\n",
              "    }\n",
              "</style>\n",
              "<table border=\"1\" class=\"dataframe\">\n",
              "  <thead>\n",
              "    <tr style=\"text-align: right;\">\n",
              "      <th></th>\n",
              "      <th>year</th>\n",
              "      <th>month</th>\n",
              "      <th>lat</th>\n",
              "      <th>lon</th>\n",
              "      <th>temp850</th>\n",
              "      <th>press</th>\n",
              "      <th>shum850</th>\n",
              "      <th>t2m</th>\n",
              "      <th>u500</th>\n",
              "      <th>u850</th>\n",
              "      <th>v850</th>\n",
              "      <th>prgpcp</th>\n",
              "    </tr>\n",
              "  </thead>\n",
              "  <tbody>\n",
              "    <tr>\n",
              "      <th>0</th>\n",
              "      <td>1980</td>\n",
              "      <td>1</td>\n",
              "      <td>-58.75</td>\n",
              "      <td>271.25</td>\n",
              "      <td>-2.65499</td>\n",
              "      <td>993.735</td>\n",
              "      <td>3.12400</td>\n",
              "      <td>4.968070</td>\n",
              "      <td>11.3675</td>\n",
              "      <td>6.60750</td>\n",
              "      <td>-0.915001</td>\n",
              "      <td>2.61009</td>\n",
              "    </tr>\n",
              "    <tr>\n",
              "      <th>1</th>\n",
              "      <td>1980</td>\n",
              "      <td>2</td>\n",
              "      <td>-58.75</td>\n",
              "      <td>271.25</td>\n",
              "      <td>-3.47750</td>\n",
              "      <td>995.384</td>\n",
              "      <td>2.92150</td>\n",
              "      <td>4.898020</td>\n",
              "      <td>10.6775</td>\n",
              "      <td>5.27499</td>\n",
              "      <td>-0.340000</td>\n",
              "      <td>3.24624</td>\n",
              "    </tr>\n",
              "    <tr>\n",
              "      <th>2</th>\n",
              "      <td>1980</td>\n",
              "      <td>3</td>\n",
              "      <td>-58.75</td>\n",
              "      <td>271.25</td>\n",
              "      <td>-4.87000</td>\n",
              "      <td>990.998</td>\n",
              "      <td>2.78050</td>\n",
              "      <td>3.880490</td>\n",
              "      <td>10.7350</td>\n",
              "      <td>6.76750</td>\n",
              "      <td>0.285000</td>\n",
              "      <td>3.96585</td>\n",
              "    </tr>\n",
              "    <tr>\n",
              "      <th>3</th>\n",
              "      <td>1980</td>\n",
              "      <td>4</td>\n",
              "      <td>-58.75</td>\n",
              "      <td>271.25</td>\n",
              "      <td>-4.39250</td>\n",
              "      <td>1006.920</td>\n",
              "      <td>2.71475</td>\n",
              "      <td>3.445750</td>\n",
              "      <td>7.9700</td>\n",
              "      <td>6.69250</td>\n",
              "      <td>2.377500</td>\n",
              "      <td>2.95227</td>\n",
              "    </tr>\n",
              "    <tr>\n",
              "      <th>4</th>\n",
              "      <td>1980</td>\n",
              "      <td>5</td>\n",
              "      <td>-58.75</td>\n",
              "      <td>271.25</td>\n",
              "      <td>-5.34500</td>\n",
              "      <td>993.502</td>\n",
              "      <td>2.73400</td>\n",
              "      <td>3.314030</td>\n",
              "      <td>4.4575</td>\n",
              "      <td>1.90750</td>\n",
              "      <td>-3.905000</td>\n",
              "      <td>3.26092</td>\n",
              "    </tr>\n",
              "    <tr>\n",
              "      <th>...</th>\n",
              "      <td>...</td>\n",
              "      <td>...</td>\n",
              "      <td>...</td>\n",
              "      <td>...</td>\n",
              "      <td>...</td>\n",
              "      <td>...</td>\n",
              "      <td>...</td>\n",
              "      <td>...</td>\n",
              "      <td>...</td>\n",
              "      <td>...</td>\n",
              "      <td>...</td>\n",
              "      <td>...</td>\n",
              "    </tr>\n",
              "    <tr>\n",
              "      <th>495</th>\n",
              "      <td>1980</td>\n",
              "      <td>4</td>\n",
              "      <td>-56.25</td>\n",
              "      <td>313.75</td>\n",
              "      <td>-5.82750</td>\n",
              "      <td>996.921</td>\n",
              "      <td>2.44275</td>\n",
              "      <td>2.026170</td>\n",
              "      <td>21.5675</td>\n",
              "      <td>10.33750</td>\n",
              "      <td>3.640000</td>\n",
              "      <td>4.13558</td>\n",
              "    </tr>\n",
              "    <tr>\n",
              "      <th>496</th>\n",
              "      <td>1980</td>\n",
              "      <td>5</td>\n",
              "      <td>-56.25</td>\n",
              "      <td>313.75</td>\n",
              "      <td>-5.00500</td>\n",
              "      <td>1004.080</td>\n",
              "      <td>2.40900</td>\n",
              "      <td>0.879597</td>\n",
              "      <td>16.9825</td>\n",
              "      <td>9.57750</td>\n",
              "      <td>4.042500</td>\n",
              "      <td>3.34953</td>\n",
              "    </tr>\n",
              "    <tr>\n",
              "      <th>497</th>\n",
              "      <td>1980</td>\n",
              "      <td>6</td>\n",
              "      <td>-56.25</td>\n",
              "      <td>313.75</td>\n",
              "      <td>-8.20750</td>\n",
              "      <td>993.452</td>\n",
              "      <td>2.15125</td>\n",
              "      <td>0.019417</td>\n",
              "      <td>18.0275</td>\n",
              "      <td>9.74250</td>\n",
              "      <td>0.857498</td>\n",
              "      <td>3.40521</td>\n",
              "    </tr>\n",
              "    <tr>\n",
              "      <th>498</th>\n",
              "      <td>1980</td>\n",
              "      <td>7</td>\n",
              "      <td>-56.25</td>\n",
              "      <td>313.75</td>\n",
              "      <td>-11.23500</td>\n",
              "      <td>1000.690</td>\n",
              "      <td>1.39350</td>\n",
              "      <td>-4.547260</td>\n",
              "      <td>15.5250</td>\n",
              "      <td>8.75250</td>\n",
              "      <td>7.707500</td>\n",
              "      <td>3.15905</td>\n",
              "    </tr>\n",
              "    <tr>\n",
              "      <th>499</th>\n",
              "      <td>1980</td>\n",
              "      <td>8</td>\n",
              "      <td>-56.25</td>\n",
              "      <td>313.75</td>\n",
              "      <td>-11.47250</td>\n",
              "      <td>1000.020</td>\n",
              "      <td>1.57225</td>\n",
              "      <td>-6.201050</td>\n",
              "      <td>15.4350</td>\n",
              "      <td>9.64000</td>\n",
              "      <td>5.007500</td>\n",
              "      <td>3.03223</td>\n",
              "    </tr>\n",
              "  </tbody>\n",
              "</table>\n",
              "<p>500 rows × 12 columns</p>\n",
              "</div>\n",
              "      <button class=\"colab-df-convert\" onclick=\"convertToInteractive('df-5f95a37b-04ca-4a61-91c8-3a5c1b8fd3a6')\"\n",
              "              title=\"Convert this dataframe to an interactive table.\"\n",
              "              style=\"display:none;\">\n",
              "        \n",
              "  <svg xmlns=\"http://www.w3.org/2000/svg\" height=\"24px\"viewBox=\"0 0 24 24\"\n",
              "       width=\"24px\">\n",
              "    <path d=\"M0 0h24v24H0V0z\" fill=\"none\"/>\n",
              "    <path d=\"M18.56 5.44l.94 2.06.94-2.06 2.06-.94-2.06-.94-.94-2.06-.94 2.06-2.06.94zm-11 1L8.5 8.5l.94-2.06 2.06-.94-2.06-.94L8.5 2.5l-.94 2.06-2.06.94zm10 10l.94 2.06.94-2.06 2.06-.94-2.06-.94-.94-2.06-.94 2.06-2.06.94z\"/><path d=\"M17.41 7.96l-1.37-1.37c-.4-.4-.92-.59-1.43-.59-.52 0-1.04.2-1.43.59L10.3 9.45l-7.72 7.72c-.78.78-.78 2.05 0 2.83L4 21.41c.39.39.9.59 1.41.59.51 0 1.02-.2 1.41-.59l7.78-7.78 2.81-2.81c.8-.78.8-2.07 0-2.86zM5.41 20L4 18.59l7.72-7.72 1.47 1.35L5.41 20z\"/>\n",
              "  </svg>\n",
              "      </button>\n",
              "      \n",
              "  <style>\n",
              "    .colab-df-container {\n",
              "      display:flex;\n",
              "      flex-wrap:wrap;\n",
              "      gap: 12px;\n",
              "    }\n",
              "\n",
              "    .colab-df-convert {\n",
              "      background-color: #E8F0FE;\n",
              "      border: none;\n",
              "      border-radius: 50%;\n",
              "      cursor: pointer;\n",
              "      display: none;\n",
              "      fill: #1967D2;\n",
              "      height: 32px;\n",
              "      padding: 0 0 0 0;\n",
              "      width: 32px;\n",
              "    }\n",
              "\n",
              "    .colab-df-convert:hover {\n",
              "      background-color: #E2EBFA;\n",
              "      box-shadow: 0px 1px 2px rgba(60, 64, 67, 0.3), 0px 1px 3px 1px rgba(60, 64, 67, 0.15);\n",
              "      fill: #174EA6;\n",
              "    }\n",
              "\n",
              "    [theme=dark] .colab-df-convert {\n",
              "      background-color: #3B4455;\n",
              "      fill: #D2E3FC;\n",
              "    }\n",
              "\n",
              "    [theme=dark] .colab-df-convert:hover {\n",
              "      background-color: #434B5C;\n",
              "      box-shadow: 0px 1px 3px 1px rgba(0, 0, 0, 0.15);\n",
              "      filter: drop-shadow(0px 1px 2px rgba(0, 0, 0, 0.3));\n",
              "      fill: #FFFFFF;\n",
              "    }\n",
              "  </style>\n",
              "\n",
              "      <script>\n",
              "        const buttonEl =\n",
              "          document.querySelector('#df-5f95a37b-04ca-4a61-91c8-3a5c1b8fd3a6 button.colab-df-convert');\n",
              "        buttonEl.style.display =\n",
              "          google.colab.kernel.accessAllowed ? 'block' : 'none';\n",
              "\n",
              "        async function convertToInteractive(key) {\n",
              "          const element = document.querySelector('#df-5f95a37b-04ca-4a61-91c8-3a5c1b8fd3a6');\n",
              "          const dataTable =\n",
              "            await google.colab.kernel.invokeFunction('convertToInteractive',\n",
              "                                                     [key], {});\n",
              "          if (!dataTable) return;\n",
              "\n",
              "          const docLinkHtml = 'Like what you see? Visit the ' +\n",
              "            '<a target=\"_blank\" href=https://colab.research.google.com/notebooks/data_table.ipynb>data table notebook</a>'\n",
              "            + ' to learn more about interactive tables.';\n",
              "          element.innerHTML = '';\n",
              "          dataTable['output_type'] = 'display_data';\n",
              "          await google.colab.output.renderOutput(dataTable, element);\n",
              "          const docLink = document.createElement('div');\n",
              "          docLink.innerHTML = docLinkHtml;\n",
              "          element.appendChild(docLink);\n",
              "        }\n",
              "      </script>\n",
              "    </div>\n",
              "  </div>\n",
              "  "
            ]
          },
          "metadata": {},
          "execution_count": 5
        }
      ]
    },
    {
      "cell_type": "code",
      "source": [
        "df.describe()"
      ],
      "metadata": {
        "colab": {
          "base_uri": "https://localhost:8080/",
          "height": 364
        },
        "id": "kfbr42U1y9a1",
        "outputId": "78d8afb8-921b-45a1-a448-d2f17cceb509"
      },
      "execution_count": null,
      "outputs": [
        {
          "output_type": "execute_result",
          "data": {
            "text/plain": [
              "                year          month            lat            lon  \\\n",
              "count  298368.000000  298368.000000  298368.000000  298368.000000   \n",
              "mean     1998.000000       6.500000     -25.000000     300.000000   \n",
              "std        10.677096       3.452058      20.194402      17.305495   \n",
              "min      1980.000000       1.000000     -58.750000     271.250000   \n",
              "25%      1989.000000       3.750000     -41.875000     285.625000   \n",
              "50%      1998.000000       6.500000     -25.000000     300.000000   \n",
              "75%      2007.000000       9.250000      -8.125000     314.375000   \n",
              "max      2016.000000      12.000000       8.750000     328.750000   \n",
              "\n",
              "             temp850          press        shum850            t2m  \\\n",
              "count  298368.000000  298368.000000  298368.000000  298368.000000   \n",
              "mean       10.506898     987.537557       6.779083      17.003383   \n",
              "std         8.084645      49.126809       3.470923       8.158967   \n",
              "min       -16.730000     679.165000       0.747749     -23.691700   \n",
              "25%         3.947510     983.879750       3.512500      10.434150   \n",
              "50%        14.152500    1003.350000       6.177750      19.078650   \n",
              "75%        17.087500    1013.340000      10.034000      24.226100   \n",
              "max        23.684300    1037.790000      18.617900      31.593100   \n",
              "\n",
              "                u500           u850           v850         prgpcp  \n",
              "count  298368.000000  298368.000000  298368.000000  298368.000000  \n",
              "mean        6.891379       1.494265      -0.156818       3.443623  \n",
              "std        10.096684       6.800825       2.320492       3.183081  \n",
              "min       -14.960000     -14.162500     -10.972500       0.000000  \n",
              "25%        -2.825223      -3.872500      -1.680060       1.027998  \n",
              "50%         8.185000       0.677502      -0.192501       2.745455  \n",
              "75%        15.807500       7.372500       1.250000       4.624422  \n",
              "max        30.680400      20.225000      10.515000      31.345700  "
            ],
            "text/html": [
              "\n",
              "  <div id=\"df-d8e5643b-2ecc-4135-b53b-29e17a1253dd\">\n",
              "    <div class=\"colab-df-container\">\n",
              "      <div>\n",
              "<style scoped>\n",
              "    .dataframe tbody tr th:only-of-type {\n",
              "        vertical-align: middle;\n",
              "    }\n",
              "\n",
              "    .dataframe tbody tr th {\n",
              "        vertical-align: top;\n",
              "    }\n",
              "\n",
              "    .dataframe thead th {\n",
              "        text-align: right;\n",
              "    }\n",
              "</style>\n",
              "<table border=\"1\" class=\"dataframe\">\n",
              "  <thead>\n",
              "    <tr style=\"text-align: right;\">\n",
              "      <th></th>\n",
              "      <th>year</th>\n",
              "      <th>month</th>\n",
              "      <th>lat</th>\n",
              "      <th>lon</th>\n",
              "      <th>temp850</th>\n",
              "      <th>press</th>\n",
              "      <th>shum850</th>\n",
              "      <th>t2m</th>\n",
              "      <th>u500</th>\n",
              "      <th>u850</th>\n",
              "      <th>v850</th>\n",
              "      <th>prgpcp</th>\n",
              "    </tr>\n",
              "  </thead>\n",
              "  <tbody>\n",
              "    <tr>\n",
              "      <th>count</th>\n",
              "      <td>298368.000000</td>\n",
              "      <td>298368.000000</td>\n",
              "      <td>298368.000000</td>\n",
              "      <td>298368.000000</td>\n",
              "      <td>298368.000000</td>\n",
              "      <td>298368.000000</td>\n",
              "      <td>298368.000000</td>\n",
              "      <td>298368.000000</td>\n",
              "      <td>298368.000000</td>\n",
              "      <td>298368.000000</td>\n",
              "      <td>298368.000000</td>\n",
              "      <td>298368.000000</td>\n",
              "    </tr>\n",
              "    <tr>\n",
              "      <th>mean</th>\n",
              "      <td>1998.000000</td>\n",
              "      <td>6.500000</td>\n",
              "      <td>-25.000000</td>\n",
              "      <td>300.000000</td>\n",
              "      <td>10.506898</td>\n",
              "      <td>987.537557</td>\n",
              "      <td>6.779083</td>\n",
              "      <td>17.003383</td>\n",
              "      <td>6.891379</td>\n",
              "      <td>1.494265</td>\n",
              "      <td>-0.156818</td>\n",
              "      <td>3.443623</td>\n",
              "    </tr>\n",
              "    <tr>\n",
              "      <th>std</th>\n",
              "      <td>10.677096</td>\n",
              "      <td>3.452058</td>\n",
              "      <td>20.194402</td>\n",
              "      <td>17.305495</td>\n",
              "      <td>8.084645</td>\n",
              "      <td>49.126809</td>\n",
              "      <td>3.470923</td>\n",
              "      <td>8.158967</td>\n",
              "      <td>10.096684</td>\n",
              "      <td>6.800825</td>\n",
              "      <td>2.320492</td>\n",
              "      <td>3.183081</td>\n",
              "    </tr>\n",
              "    <tr>\n",
              "      <th>min</th>\n",
              "      <td>1980.000000</td>\n",
              "      <td>1.000000</td>\n",
              "      <td>-58.750000</td>\n",
              "      <td>271.250000</td>\n",
              "      <td>-16.730000</td>\n",
              "      <td>679.165000</td>\n",
              "      <td>0.747749</td>\n",
              "      <td>-23.691700</td>\n",
              "      <td>-14.960000</td>\n",
              "      <td>-14.162500</td>\n",
              "      <td>-10.972500</td>\n",
              "      <td>0.000000</td>\n",
              "    </tr>\n",
              "    <tr>\n",
              "      <th>25%</th>\n",
              "      <td>1989.000000</td>\n",
              "      <td>3.750000</td>\n",
              "      <td>-41.875000</td>\n",
              "      <td>285.625000</td>\n",
              "      <td>3.947510</td>\n",
              "      <td>983.879750</td>\n",
              "      <td>3.512500</td>\n",
              "      <td>10.434150</td>\n",
              "      <td>-2.825223</td>\n",
              "      <td>-3.872500</td>\n",
              "      <td>-1.680060</td>\n",
              "      <td>1.027998</td>\n",
              "    </tr>\n",
              "    <tr>\n",
              "      <th>50%</th>\n",
              "      <td>1998.000000</td>\n",
              "      <td>6.500000</td>\n",
              "      <td>-25.000000</td>\n",
              "      <td>300.000000</td>\n",
              "      <td>14.152500</td>\n",
              "      <td>1003.350000</td>\n",
              "      <td>6.177750</td>\n",
              "      <td>19.078650</td>\n",
              "      <td>8.185000</td>\n",
              "      <td>0.677502</td>\n",
              "      <td>-0.192501</td>\n",
              "      <td>2.745455</td>\n",
              "    </tr>\n",
              "    <tr>\n",
              "      <th>75%</th>\n",
              "      <td>2007.000000</td>\n",
              "      <td>9.250000</td>\n",
              "      <td>-8.125000</td>\n",
              "      <td>314.375000</td>\n",
              "      <td>17.087500</td>\n",
              "      <td>1013.340000</td>\n",
              "      <td>10.034000</td>\n",
              "      <td>24.226100</td>\n",
              "      <td>15.807500</td>\n",
              "      <td>7.372500</td>\n",
              "      <td>1.250000</td>\n",
              "      <td>4.624422</td>\n",
              "    </tr>\n",
              "    <tr>\n",
              "      <th>max</th>\n",
              "      <td>2016.000000</td>\n",
              "      <td>12.000000</td>\n",
              "      <td>8.750000</td>\n",
              "      <td>328.750000</td>\n",
              "      <td>23.684300</td>\n",
              "      <td>1037.790000</td>\n",
              "      <td>18.617900</td>\n",
              "      <td>31.593100</td>\n",
              "      <td>30.680400</td>\n",
              "      <td>20.225000</td>\n",
              "      <td>10.515000</td>\n",
              "      <td>31.345700</td>\n",
              "    </tr>\n",
              "  </tbody>\n",
              "</table>\n",
              "</div>\n",
              "      <button class=\"colab-df-convert\" onclick=\"convertToInteractive('df-d8e5643b-2ecc-4135-b53b-29e17a1253dd')\"\n",
              "              title=\"Convert this dataframe to an interactive table.\"\n",
              "              style=\"display:none;\">\n",
              "        \n",
              "  <svg xmlns=\"http://www.w3.org/2000/svg\" height=\"24px\"viewBox=\"0 0 24 24\"\n",
              "       width=\"24px\">\n",
              "    <path d=\"M0 0h24v24H0V0z\" fill=\"none\"/>\n",
              "    <path d=\"M18.56 5.44l.94 2.06.94-2.06 2.06-.94-2.06-.94-.94-2.06-.94 2.06-2.06.94zm-11 1L8.5 8.5l.94-2.06 2.06-.94-2.06-.94L8.5 2.5l-.94 2.06-2.06.94zm10 10l.94 2.06.94-2.06 2.06-.94-2.06-.94-.94-2.06-.94 2.06-2.06.94z\"/><path d=\"M17.41 7.96l-1.37-1.37c-.4-.4-.92-.59-1.43-.59-.52 0-1.04.2-1.43.59L10.3 9.45l-7.72 7.72c-.78.78-.78 2.05 0 2.83L4 21.41c.39.39.9.59 1.41.59.51 0 1.02-.2 1.41-.59l7.78-7.78 2.81-2.81c.8-.78.8-2.07 0-2.86zM5.41 20L4 18.59l7.72-7.72 1.47 1.35L5.41 20z\"/>\n",
              "  </svg>\n",
              "      </button>\n",
              "      \n",
              "  <style>\n",
              "    .colab-df-container {\n",
              "      display:flex;\n",
              "      flex-wrap:wrap;\n",
              "      gap: 12px;\n",
              "    }\n",
              "\n",
              "    .colab-df-convert {\n",
              "      background-color: #E8F0FE;\n",
              "      border: none;\n",
              "      border-radius: 50%;\n",
              "      cursor: pointer;\n",
              "      display: none;\n",
              "      fill: #1967D2;\n",
              "      height: 32px;\n",
              "      padding: 0 0 0 0;\n",
              "      width: 32px;\n",
              "    }\n",
              "\n",
              "    .colab-df-convert:hover {\n",
              "      background-color: #E2EBFA;\n",
              "      box-shadow: 0px 1px 2px rgba(60, 64, 67, 0.3), 0px 1px 3px 1px rgba(60, 64, 67, 0.15);\n",
              "      fill: #174EA6;\n",
              "    }\n",
              "\n",
              "    [theme=dark] .colab-df-convert {\n",
              "      background-color: #3B4455;\n",
              "      fill: #D2E3FC;\n",
              "    }\n",
              "\n",
              "    [theme=dark] .colab-df-convert:hover {\n",
              "      background-color: #434B5C;\n",
              "      box-shadow: 0px 1px 3px 1px rgba(0, 0, 0, 0.15);\n",
              "      filter: drop-shadow(0px 1px 2px rgba(0, 0, 0, 0.3));\n",
              "      fill: #FFFFFF;\n",
              "    }\n",
              "  </style>\n",
              "\n",
              "      <script>\n",
              "        const buttonEl =\n",
              "          document.querySelector('#df-d8e5643b-2ecc-4135-b53b-29e17a1253dd button.colab-df-convert');\n",
              "        buttonEl.style.display =\n",
              "          google.colab.kernel.accessAllowed ? 'block' : 'none';\n",
              "\n",
              "        async function convertToInteractive(key) {\n",
              "          const element = document.querySelector('#df-d8e5643b-2ecc-4135-b53b-29e17a1253dd');\n",
              "          const dataTable =\n",
              "            await google.colab.kernel.invokeFunction('convertToInteractive',\n",
              "                                                     [key], {});\n",
              "          if (!dataTable) return;\n",
              "\n",
              "          const docLinkHtml = 'Like what you see? Visit the ' +\n",
              "            '<a target=\"_blank\" href=https://colab.research.google.com/notebooks/data_table.ipynb>data table notebook</a>'\n",
              "            + ' to learn more about interactive tables.';\n",
              "          element.innerHTML = '';\n",
              "          dataTable['output_type'] = 'display_data';\n",
              "          await google.colab.output.renderOutput(dataTable, element);\n",
              "          const docLink = document.createElement('div');\n",
              "          docLink.innerHTML = docLinkHtml;\n",
              "          element.appendChild(docLink);\n",
              "        }\n",
              "      </script>\n",
              "    </div>\n",
              "  </div>\n",
              "  "
            ]
          },
          "metadata": {},
          "execution_count": 6
        }
      ]
    },
    {
      "cell_type": "code",
      "source": [
        "#plot pressure time series\n",
        "fig, ax = plt.subplots(figsize=(30, 10))\n",
        "\n",
        "years = df.year.unique()\n",
        "\n",
        "ax.plot(df.groupby('year')['press'].mean(),'bo', ms=10,color='k')\n",
        "ax.vlines(years,0, df.groupby('year')['press'].mean(), colors='k', lw=3, alpha=0.7)\n",
        "\n",
        "#ax.set_xlim(1980, 2016)\n",
        "ax.set_ylim(986.5, 988.5)\n",
        "ax.set_xlim(xmin=1979, xmax=2017)\n",
        "\n",
        "plt.xticks(range(1980, 2017), size=15)\n",
        "plt.yticks(size=15)\n",
        "plt.xlabel('Year', size=15)\n",
        "plt.ylabel('Surface Pressure (in millibars)', size=15)\n",
        "plt.title('Figure 1 - Surface Pressure Yearly Average from 1980 to 2016', pad=30, size=25)\n",
        "plt.grid()\n",
        "plt.show()"
      ],
      "metadata": {
        "colab": {
          "base_uri": "https://localhost:8080/",
          "height": 549
        },
        "id": "Y9kBTKcny1Ee",
        "outputId": "c65afe11-7bd4-4d7d-cd9a-d9ffdcb48e02"
      },
      "execution_count": null,
      "outputs": [
        {
          "output_type": "display_data",
          "data": {
            "text/plain": [
              "<Figure size 2160x720 with 1 Axes>"
            ],
            "image/png": "[encoded data removed]"
          },
          "metadata": {
            "needs_background": "light"
          }
        }
      ]
    },
    {
      "cell_type": "code",
      "source": [
        "#plot data distribuition\n",
        "fig, axs = plt.subplots(figsize=(18, 10))\n",
        "\n",
        "# set data\n",
        "axs.hist(df.press, bins=70, density=True, color ='black')\n",
        "\n",
        "# set text box and mean line\n",
        "mu = np.mean(df.press)\n",
        "median = np.median(df.press)\n",
        "sigma = np.std(df.press)\n",
        "\n",
        "textstr = '\\n'.join((r'$\\mu=%.2f$' % (mu, ), r'$\\mathrm{median}=%.2f$' % (median, ), r'$\\sigma=%.2f$' % (sigma, )))\n",
        "props = dict(boxstyle='round', facecolor='wheat', alpha=0.5)\n",
        "axs.text(1.1, 0.5, textstr, transform=axs.transAxes, fontsize=14, verticalalignment='bottom', bbox=props)  \n",
        "axs.axvline(mu, color='g', linestyle='dashed', linewidth=1)\n",
        "\n",
        "#Create labels \n",
        "axs.set_xlabel('Surface Pressure', size=14)\n",
        "axs.set_ylabel('Frequency', size=14)\n",
        "\n",
        "# set title\n",
        "plt.title('Figure 2 - Surface Pressure Distribution from 1980 to 2016', pad=30, size=25)\n",
        "plt.legend([\"μ\"])\n",
        "plt.grid()\n",
        "plt.show()"
      ],
      "metadata": {
        "colab": {
          "base_uri": "https://localhost:8080/",
          "height": 659
        },
        "id": "vQynW9UjCtuy",
        "outputId": "b7d3b656-a247-4baf-9dca-0bda237b110c"
      },
      "execution_count": null,
      "outputs": [
        {
          "output_type": "display_data",
          "data": {
            "text/plain": [
              "<Figure size 1296x720 with 1 Axes>"
            ],
            "image/png": "[encoded data removed]"
          },
          "metadata": {
            "needs_background": "light"
          }
        }
      ]
    },
    {
      "cell_type": "markdown",
      "source": [
        "# 1. Develop a program that can answer the following questions:"
      ],
      "metadata": {
        "id": "xYYAAFFbse5N"
      }
    },
    {
      "cell_type": "code",
      "source": [
        "# calculating average per year\n",
        "mu = int(df.press.mean())\n",
        "print(f\"The historical frequency of surface pressure is {mu} millibars per year\")"
      ],
      "metadata": {
        "colab": {
          "base_uri": "https://localhost:8080/"
        },
        "id": "ipcv56ZILtW_",
        "outputId": "70f7b483-d96f-4732-ac84-1a768d48702d"
      },
      "execution_count": null,
      "outputs": [
        {
          "output_type": "stream",
          "name": "stdout",
          "text": [
            "The historical frequency of surface pressure is 987 millibars per year\n"
          ]
        }
      ]
    },
    {
      "cell_type": "markdown",
      "source": [
        "# 1.1 What is the probability that the outcomes of high surface pressure measurements in one year is greater than 5,600 ?"
      ],
      "metadata": {
        "id": "hUq3SJxUshFa"
      }
    },
    {
      "cell_type": "code",
      "source": [
        "# mathematically: k ≥ x\n",
        "# 1 - cdf P(X ≤ x)\n",
        "k1 = 5600\n",
        "p1 = poisson.sf(k1, mu)\n",
        "print(f\"Probability that the outcomes of high surface presure measurments in one year is greater than 5,600 is {p1}\")"
      ],
      "metadata": {
        "colab": {
          "base_uri": "https://localhost:8080/"
        },
        "id": "uO5NltIYNJdr",
        "outputId": "9db10bfb-b798-4cc5-a3ed-8cd42fc7777f"
      },
      "execution_count": null,
      "outputs": [
        {
          "output_type": "stream",
          "name": "stdout",
          "text": [
            "Probability that the outcomes of high surface presure measurments in one year is greater than 5,600 is 0.0\n"
          ]
        }
      ]
    },
    {
      "cell_type": "markdown",
      "source": [
        "# 1.2 What is the probability that the outcomes of high surface pressure measurements in one year is exactly 5,830?"
      ],
      "metadata": {
        "id": "bAUHbcXGslj8"
      }
    },
    {
      "cell_type": "code",
      "source": [
        "# mathematically: k = x\n",
        "# pmf P(X = x)\n",
        "k2 = 5830\n",
        "p2 = poisson.pmf(k2, mu)\n",
        "print(f\"Probability that the outcomes of high surface presure measurments in one year is = 5,830 is {p2}\")"
      ],
      "metadata": {
        "colab": {
          "base_uri": "https://localhost:8080/"
        },
        "id": "cOTh84WlWAox",
        "outputId": "f20fff14-d253-47ab-e109-c26d328cfbbc"
      },
      "execution_count": null,
      "outputs": [
        {
          "output_type": "stream",
          "name": "stdout",
          "text": [
            "Probability that the outcomes of high surface presure measurments in one year is = 5,830 is 0.0\n"
          ]
        }
      ]
    },
    {
      "cell_type": "markdown",
      "source": [
        "# 1.3 What is the probability that the outcomes of high surface pressure measurements in one year is less than or equal to 10,000?"
      ],
      "metadata": {
        "id": "rOrsdZ7-soEH"
      }
    },
    {
      "cell_type": "code",
      "source": [
        "# mathematically: k ≤ x\n",
        "# cdf P(X ≤ x)\n",
        "k3 = 10000\n",
        "p3 = poisson.cdf(k3, mu)\n",
        "print(f\"Probability that the outcomes of high surface presure measurments in one year is ≤ 10,000 is {p3}\")"
      ],
      "metadata": {
        "colab": {
          "base_uri": "https://localhost:8080/"
        },
        "id": "QdFQ18BzXN7-",
        "outputId": "316c6326-d4b0-455c-bac2-c437d99e6a6d"
      },
      "execution_count": null,
      "outputs": [
        {
          "output_type": "stream",
          "name": "stdout",
          "text": [
            "Probability that the outcomes of high surface presure measurments in one year is ≤ 10,000 is 1.0\n"
          ]
        }
      ]
    },
    {
      "cell_type": "markdown",
      "source": [
        "# 1.4 What is the probability that the outcomes of high surface pressure measurements in one year is greater than 5,900?"
      ],
      "metadata": {
        "id": "detE4Ry6srOH"
      }
    },
    {
      "cell_type": "code",
      "source": [
        "# mathematically: k ≥ x\n",
        "# 1 - cdf P(X ≤ x)\n",
        "k4 = 5900\n",
        "p4 = poisson.sf(k4, mu)\n",
        "print(f\"Probability that the outcomes of high surface presure measurments in one year is greater than 5,600 is {p4}\")"
      ],
      "metadata": {
        "colab": {
          "base_uri": "https://localhost:8080/"
        },
        "id": "8ODKuT1oXxIF",
        "outputId": "d22fa021-e673-4a42-ac1a-ef02c5f31482"
      },
      "execution_count": null,
      "outputs": [
        {
          "output_type": "stream",
          "name": "stdout",
          "text": [
            "Probability that the outcomes of high surface presure measurments in one year is greater than 5,600 is 0.0\n"
          ]
        }
      ]
    },
    {
      "cell_type": "markdown",
      "source": [
        "# 1.5 PMF"
      ],
      "metadata": {
        "id": "JbX5rBaOst1v"
      }
    },
    {
      "cell_type": "code",
      "source": [
        "d1 = np.random.poisson(mu, 10000)"
      ],
      "metadata": {
        "id": "vcyZsv923wNp"
      },
      "execution_count": null,
      "outputs": []
    },
    {
      "cell_type": "code",
      "source": [
        "#plot data distribuition\n",
        "fig, axs = plt.subplots(figsize=(18, 10))\n",
        "\n",
        "# set data\n",
        "axs.hist(d1, bins=100, density=True, color ='k')\n",
        "\n",
        "# set text box and mean line\n",
        "mu = np.mean(d1)\n",
        "median = np.median(d1)\n",
        "sigma = np.std(d1)\n",
        "\n",
        "textstr = '\\n'.join((r'$\\mu=%.2f$' % (mu, ), r'$\\mathrm{median}=%.2f$' % (median, ), r'$\\sigma=%.2f$' % (sigma, )))\n",
        "props = dict(boxstyle='round', facecolor='wheat', alpha=0.5)\n",
        "axs.text(1.1, 0.5, textstr, transform=axs.transAxes, fontsize=14, verticalalignment='bottom', bbox=props)  \n",
        "axs.axvline(mu, color='g', linestyle='dashed', linewidth=1)\n",
        "\n",
        "#Create labels \n",
        "axs.set_xlabel('x', size=14)\n",
        "axs.set_ylabel('Frequency', size=14)\n",
        "\n",
        "# set title\n",
        "plt.title('Figure 3 - Probability Distribution PMF ', pad=30, size=25)\n",
        "plt.legend([\"μ\"])\n",
        "plt.grid()\n",
        "plt.show()"
      ],
      "metadata": {
        "colab": {
          "base_uri": "https://localhost:8080/",
          "height": 659
        },
        "id": "YS4vETjv5BVZ",
        "outputId": "3e8b4859-9b62-4c96-8ca8-07921ae4ac73"
      },
      "execution_count": null,
      "outputs": [
        {
          "output_type": "display_data",
          "data": {
            "text/plain": [
              "<Figure size 1296x720 with 1 Axes>"
            ],
            "image/png": "[encoded data removed]"
          },
          "metadata": {
            "needs_background": "light"
          }
        }
      ]
    },
    {
      "cell_type": "markdown",
      "source": [
        "#1.6 CDF"
      ],
      "metadata": {
        "id": "8gV_QgFIdDIS"
      }
    },
    {
      "cell_type": "code",
      "source": [
        "a = np.arange(mu - 70, mu + 200)\n",
        "a = a.astype(int)\n",
        "d2 = poisson.cdf(a, mu) * 100\n",
        "d2 = d2.astype(int)\n",
        "min(a)"
      ],
      "metadata": {
        "colab": {
          "base_uri": "https://localhost:8080/"
        },
        "id": "VvPhPLsXGwmq",
        "outputId": "86b16896-a0e6-4183-9f27-8b9de2924beb"
      },
      "execution_count": null,
      "outputs": [
        {
          "output_type": "execute_result",
          "data": {
            "text/plain": [
              "916"
            ]
          },
          "metadata": {},
          "execution_count": 16
        }
      ]
    },
    {
      "cell_type": "code",
      "source": [
        "fig, axs = plt.subplots(figsize=(18, 10))\n",
        "\n",
        "axs.scatter(a, d2,color='k')\n",
        "axs.vlines(a, 0, d2, colors='k', lw=1, alpha=0.5)\n",
        "\n",
        "axs.scatter(987, 51,color='g')\n",
        "axs.vlines(987, 0, 51, colors='g', lw=3, alpha=0.5)\n",
        "\n",
        "axs.spines['bottom'].set_position('zero')\n",
        "axs.set_xlim(xmin=915)\n",
        "axs.set_ylim(ymin=0, ymax=105)\n",
        "\n",
        "plt.yticks(size=15)\n",
        "plt.xlabel('x', size=15)\n",
        "plt.ylabel('Probability %', size=15)\n",
        "plt.title('Figure 4 - CDF', pad=30, size=20)\n",
        "plt.grid()\n",
        "plt.show()"
      ],
      "metadata": {
        "colab": {
          "base_uri": "https://localhost:8080/",
          "height": 655
        },
        "id": "dnL2EHcDIcuB",
        "outputId": "764179cf-e6fd-4f98-eddd-bb8e2045a215"
      },
      "execution_count": null,
      "outputs": [
        {
          "output_type": "display_data",
          "data": {
            "text/plain": [
              "<Figure size 1296x720 with 1 Axes>"
            ],
            "image/png": "[encoded data removed]"
          },
          "metadata": {
            "needs_background": "light"
          }
        }
      ]
    },
    {
      "cell_type": "markdown",
      "source": [
        "# 1.7 Inverse CDF\n",
        "\n",
        "\n"
      ],
      "metadata": {
        "id": "iI00d_yyY10d"
      }
    },
    {
      "cell_type": "code",
      "source": [
        "b = np.arange(mu - 70, mu + 200)\n",
        "b = b.astype(int)\n",
        "d3 = poisson.sf(b, mu) * 100\n",
        "d3 = d3.astype(int)"
      ],
      "metadata": {
        "id": "_9zhn4xTJwO9"
      },
      "execution_count": null,
      "outputs": []
    },
    {
      "cell_type": "code",
      "source": [
        "fig, axs = plt.subplots(figsize=(18, 10))\n",
        "\n",
        "axs.scatter(b, d3,color='k')\n",
        "axs.vlines(b, 0, d3, colors='k', lw=1, alpha=0.5)\n",
        "\n",
        "axs.scatter(987, 48,color='g')\n",
        "axs.vlines(987, 0, 49, colors='g', lw=3, alpha=0.5)\n",
        "\n",
        "axs.spines['bottom'].set_position('zero')\n",
        "axs.set_xlim(xmin=915)\n",
        "\n",
        "plt.yticks(size=15)\n",
        "plt.xlabel('x', size=15)\n",
        "plt.ylabel('Probability %', size=15)\n",
        "plt.title('Figure 5 - Inverse CDF ', pad=30, size=20)\n",
        "plt.show()"
      ],
      "metadata": {
        "colab": {
          "base_uri": "https://localhost:8080/",
          "height": 631
        },
        "id": "l_O6Wds2J35v",
        "outputId": "18eaf54d-f2ea-475d-947a-a667558173d5"
      },
      "execution_count": null,
      "outputs": [
        {
          "output_type": "display_data",
          "data": {
            "text/plain": [
              "<Figure size 1296x720 with 1 Axes>"
            ],
            "image/png": "[encoded data removed]"
          },
          "metadata": {
            "needs_background": "light"
          }
        }
      ]
    },
    {
      "cell_type": "markdown",
      "source": [
        "# 2. Conclusion"
      ],
      "metadata": {
        "id": "7rgUdRGqqunI"
      }
    },
    {
      "cell_type": "markdown",
      "source": [
        " It is observed in the figure 5 that the probability of high surface pressure outcome measurements be greater than 1050 millibars reaches out to 0. While in figure 4, the opposite is noticible, the probability of high surface pressure outcome measurements be less 1050 millibars reaches out to 100%. For these reasons, the probability of being greater than 5600 and 5900 millibars is iqual to 0, and being less than 10000 millibars is iqual to 1. Now, considering the the probability distribution in figure 3, the probability of the high pressure being exactly the given x reaches out to 0 when x < 900  and x > 1100, therefore the probability of high surface pressure outcome measurements be exaclty 5600 millibars tends to 0."
      ],
      "metadata": {
        "id": "8rrCZ01lDNlj"
      }
    },
    {
      "cell_type": "markdown",
      "source": [
        "#3. References:"
      ],
      "metadata": {
        "id": "NkoXgUIeEpGI"
      }
    },
    {
      "cell_type": "markdown",
      "source": [
        "[1] Discrete Random Variables and Probability Distributions. Available at: https://github.com/vsantjr/CAP/blob/master/CAP417/Material/CAP-417_Estatistica%20Computacional_Prof%20Valdivino_A02.ipynb. Accessed on: Abr 22, 22.\n",
        "\n",
        "[2] V. A. Santiago Júnior. CAP-417: Estatística Computacional (Computational Statistics), 2022. Acessed on: Abr 22, 22. Available at: https://github.com/vsantjr/CAP/tree/master/CAP417.\n",
        "\n",
        "[3] Poisson Distribution and Poisson Process in Python. Available at: https://pyshark.com/poisson-distribution-and-poisson-process-in-python/. Accessed on: Abr 22, 22.\n",
        "\n",
        "[4] API reference: scipy.stats.poisson. Available at:https://docs.scipy.org/doc/scipy/reference/generated/scipy.stats.poisson.html. Accessed on: Abr 22, 22.\n",
        "\n",
        "[5]The Poisson Distribution and Poisson Process Explained. Available at:https://towardsdatascience.com/the-poisson-distribution-and-poisson-process-explained-4e2cb17d459. Accessed on: Abr 22, 22.\n",
        "\n",
        "[6]Poisson Process. https://dlsun.github.io/probability/poisson-process.html#def:pp. Available at:https://dlsun.github.io/probability/poisson-process.html#def:pp. Accessed on: Abr 22, 22.\n"
      ],
      "metadata": {
        "id": "TQILLMqUlpQX"
      }
    },
    {
      "cell_type": "code",
      "source": [
        ""
      ],
      "metadata": {
        "id": "SNRw-o6fP7i6"
      },
      "execution_count": null,
      "outputs": []
    }
  ]
}